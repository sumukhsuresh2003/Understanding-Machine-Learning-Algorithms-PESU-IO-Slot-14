{
  "nbformat": 4,
  "nbformat_minor": 0,
  "metadata": {
    "colab": {
      "provenance": [],
      "authorship_tag": "ABX9TyOJwQdXoNlbcCaboGkeAHSM",
      "include_colab_link": true
    },
    "kernelspec": {
      "name": "python3",
      "display_name": "Python 3"
    },
    "language_info": {
      "name": "python"
    }
  },
  "cells": [
    {
      "cell_type": "markdown",
      "metadata": {
        "id": "view-in-github",
        "colab_type": "text"
      },
      "source": [
        "<a href=\"https://colab.research.google.com/github/sumukhsuresh2003/Understanding-Machine-Learning-Algorithms-PESU-IO-Slot-14/blob/main/EDA.ipynb\" target=\"_parent\"><img src=\"https://colab.research.google.com/assets/colab-badge.svg\" alt=\"Open In Colab\"/></a>"
      ]
    },
    {
      "cell_type": "code",
      "execution_count": null,
      "metadata": {
        "id": "hbPB8LleaS6s"
      },
      "outputs": [],
      "source": [
        "import numpy as np\n",
        "import matplotlib.pyplot as plt\n",
        "import pandas as pd"
      ]
    },
    {
      "cell_type": "code",
      "source": [
        "dataset = pd.read_csv('cancer patient data sets.csv')"
      ],
      "metadata": {
        "id": "mI7L1geFbc2S"
      },
      "execution_count": null,
      "outputs": []
    },
    {
      "cell_type": "code",
      "source": [
        "x = dataset.iloc[:,:-1].values\n",
        "y = dataset.iloc[:,-1].values"
      ],
      "metadata": {
        "id": "1YxrMGefboHK"
      },
      "execution_count": null,
      "outputs": []
    },
    {
      "cell_type": "code",
      "source": [
        "dataset.shape"
      ],
      "metadata": {
        "colab": {
          "base_uri": "https://localhost:8080/"
        },
        "id": "nDu064necFYd",
        "outputId": "397f15fa-041e-4415-bf9e-909b4d6ad138"
      },
      "execution_count": null,
      "outputs": [
        {
          "output_type": "execute_result",
          "data": {
            "text/plain": [
              "(1000, 24)"
            ]
          },
          "metadata": {},
          "execution_count": 38
        }
      ]
    },
    {
      "cell_type": "code",
      "source": [
        "dataset.describe()"
      ],
      "metadata": {
        "colab": {
          "base_uri": "https://localhost:8080/",
          "height": 428
        },
        "id": "27Wda4ADcMJl",
        "outputId": "e7d5e8ae-5295-4f26-9a56-f8ab80511441"
      },
      "execution_count": null,
      "outputs": [
        {
          "output_type": "execute_result",
          "data": {
            "text/plain": [
              "               Age       Gender  Air Pollution  Alcohol use  Dust Allergy  \\\n",
              "count  1000.000000  1000.000000      1000.0000  1000.000000   1000.000000   \n",
              "mean     37.174000     1.402000         3.8400     4.563000      5.165000   \n",
              "std      12.005493     0.490547         2.0304     2.620477      1.980833   \n",
              "min      14.000000     1.000000         1.0000     1.000000      1.000000   \n",
              "25%      27.750000     1.000000         2.0000     2.000000      4.000000   \n",
              "50%      36.000000     1.000000         3.0000     5.000000      6.000000   \n",
              "75%      45.000000     2.000000         6.0000     7.000000      7.000000   \n",
              "max      73.000000     2.000000         8.0000     8.000000      8.000000   \n",
              "\n",
              "       OccuPational Hazards  Genetic Risk  chronic Lung Disease  \\\n",
              "count           1000.000000   1000.000000           1000.000000   \n",
              "mean               4.840000      4.580000              4.380000   \n",
              "std                2.107805      2.126999              1.848518   \n",
              "min                1.000000      1.000000              1.000000   \n",
              "25%                3.000000      2.000000              3.000000   \n",
              "50%                5.000000      5.000000              4.000000   \n",
              "75%                7.000000      7.000000              6.000000   \n",
              "max                8.000000      7.000000              7.000000   \n",
              "\n",
              "       Balanced Diet      Obesity  ...  Coughing of Blood      Fatigue  \\\n",
              "count    1000.000000  1000.000000  ...        1000.000000  1000.000000   \n",
              "mean        4.491000     4.465000  ...           4.859000     3.856000   \n",
              "std         2.135528     2.124921  ...           2.427965     2.244616   \n",
              "min         1.000000     1.000000  ...           1.000000     1.000000   \n",
              "25%         2.000000     3.000000  ...           3.000000     2.000000   \n",
              "50%         4.000000     4.000000  ...           4.000000     3.000000   \n",
              "75%         7.000000     7.000000  ...           7.000000     5.000000   \n",
              "max         7.000000     7.000000  ...           9.000000     9.000000   \n",
              "\n",
              "       Weight Loss  Shortness of Breath     Wheezing  Swallowing Difficulty  \\\n",
              "count  1000.000000          1000.000000  1000.000000            1000.000000   \n",
              "mean      3.855000             4.240000     3.777000               3.746000   \n",
              "std       2.206546             2.285087     2.041921               2.270383   \n",
              "min       1.000000             1.000000     1.000000               1.000000   \n",
              "25%       2.000000             2.000000     2.000000               2.000000   \n",
              "50%       3.000000             4.000000     4.000000               4.000000   \n",
              "75%       6.000000             6.000000     5.000000               5.000000   \n",
              "max       8.000000             9.000000     8.000000               8.000000   \n",
              "\n",
              "       Clubbing of Finger Nails  Frequent Cold    Dry Cough      Snoring  \n",
              "count               1000.000000    1000.000000  1000.000000  1000.000000  \n",
              "mean                   3.923000       3.536000     3.853000     2.926000  \n",
              "std                    2.388048       1.832502     2.039007     1.474686  \n",
              "min                    1.000000       1.000000     1.000000     1.000000  \n",
              "25%                    2.000000       2.000000     2.000000     2.000000  \n",
              "50%                    4.000000       3.000000     4.000000     3.000000  \n",
              "75%                    5.000000       5.000000     6.000000     4.000000  \n",
              "max                    9.000000       7.000000     7.000000     7.000000  \n",
              "\n",
              "[8 rows x 23 columns]"
            ],
            "text/html": [
              "\n",
              "  <div id=\"df-44605d44-dc73-4b96-9dba-d7d0defa3e20\">\n",
              "    <div class=\"colab-df-container\">\n",
              "      <div>\n",
              "<style scoped>\n",
              "    .dataframe tbody tr th:only-of-type {\n",
              "        vertical-align: middle;\n",
              "    }\n",
              "\n",
              "    .dataframe tbody tr th {\n",
              "        vertical-align: top;\n",
              "    }\n",
              "\n",
              "    .dataframe thead th {\n",
              "        text-align: right;\n",
              "    }\n",
              "</style>\n",
              "<table border=\"1\" class=\"dataframe\">\n",
              "  <thead>\n",
              "    <tr style=\"text-align: right;\">\n",
              "      <th></th>\n",
              "      <th>Age</th>\n",
              "      <th>Gender</th>\n",
              "      <th>Air Pollution</th>\n",
              "      <th>Alcohol use</th>\n",
              "      <th>Dust Allergy</th>\n",
              "      <th>OccuPational Hazards</th>\n",
              "      <th>Genetic Risk</th>\n",
              "      <th>chronic Lung Disease</th>\n",
              "      <th>Balanced Diet</th>\n",
              "      <th>Obesity</th>\n",
              "      <th>...</th>\n",
              "      <th>Coughing of Blood</th>\n",
              "      <th>Fatigue</th>\n",
              "      <th>Weight Loss</th>\n",
              "      <th>Shortness of Breath</th>\n",
              "      <th>Wheezing</th>\n",
              "      <th>Swallowing Difficulty</th>\n",
              "      <th>Clubbing of Finger Nails</th>\n",
              "      <th>Frequent Cold</th>\n",
              "      <th>Dry Cough</th>\n",
              "      <th>Snoring</th>\n",
              "    </tr>\n",
              "  </thead>\n",
              "  <tbody>\n",
              "    <tr>\n",
              "      <th>count</th>\n",
              "      <td>1000.000000</td>\n",
              "      <td>1000.000000</td>\n",
              "      <td>1000.0000</td>\n",
              "      <td>1000.000000</td>\n",
              "      <td>1000.000000</td>\n",
              "      <td>1000.000000</td>\n",
              "      <td>1000.000000</td>\n",
              "      <td>1000.000000</td>\n",
              "      <td>1000.000000</td>\n",
              "      <td>1000.000000</td>\n",
              "      <td>...</td>\n",
              "      <td>1000.000000</td>\n",
              "      <td>1000.000000</td>\n",
              "      <td>1000.000000</td>\n",
              "      <td>1000.000000</td>\n",
              "      <td>1000.000000</td>\n",
              "      <td>1000.000000</td>\n",
              "      <td>1000.000000</td>\n",
              "      <td>1000.000000</td>\n",
              "      <td>1000.000000</td>\n",
              "      <td>1000.000000</td>\n",
              "    </tr>\n",
              "    <tr>\n",
              "      <th>mean</th>\n",
              "      <td>37.174000</td>\n",
              "      <td>1.402000</td>\n",
              "      <td>3.8400</td>\n",
              "      <td>4.563000</td>\n",
              "      <td>5.165000</td>\n",
              "      <td>4.840000</td>\n",
              "      <td>4.580000</td>\n",
              "      <td>4.380000</td>\n",
              "      <td>4.491000</td>\n",
              "      <td>4.465000</td>\n",
              "      <td>...</td>\n",
              "      <td>4.859000</td>\n",
              "      <td>3.856000</td>\n",
              "      <td>3.855000</td>\n",
              "      <td>4.240000</td>\n",
              "      <td>3.777000</td>\n",
              "      <td>3.746000</td>\n",
              "      <td>3.923000</td>\n",
              "      <td>3.536000</td>\n",
              "      <td>3.853000</td>\n",
              "      <td>2.926000</td>\n",
              "    </tr>\n",
              "    <tr>\n",
              "      <th>std</th>\n",
              "      <td>12.005493</td>\n",
              "      <td>0.490547</td>\n",
              "      <td>2.0304</td>\n",
              "      <td>2.620477</td>\n",
              "      <td>1.980833</td>\n",
              "      <td>2.107805</td>\n",
              "      <td>2.126999</td>\n",
              "      <td>1.848518</td>\n",
              "      <td>2.135528</td>\n",
              "      <td>2.124921</td>\n",
              "      <td>...</td>\n",
              "      <td>2.427965</td>\n",
              "      <td>2.244616</td>\n",
              "      <td>2.206546</td>\n",
              "      <td>2.285087</td>\n",
              "      <td>2.041921</td>\n",
              "      <td>2.270383</td>\n",
              "      <td>2.388048</td>\n",
              "      <td>1.832502</td>\n",
              "      <td>2.039007</td>\n",
              "      <td>1.474686</td>\n",
              "    </tr>\n",
              "    <tr>\n",
              "      <th>min</th>\n",
              "      <td>14.000000</td>\n",
              "      <td>1.000000</td>\n",
              "      <td>1.0000</td>\n",
              "      <td>1.000000</td>\n",
              "      <td>1.000000</td>\n",
              "      <td>1.000000</td>\n",
              "      <td>1.000000</td>\n",
              "      <td>1.000000</td>\n",
              "      <td>1.000000</td>\n",
              "      <td>1.000000</td>\n",
              "      <td>...</td>\n",
              "      <td>1.000000</td>\n",
              "      <td>1.000000</td>\n",
              "      <td>1.000000</td>\n",
              "      <td>1.000000</td>\n",
              "      <td>1.000000</td>\n",
              "      <td>1.000000</td>\n",
              "      <td>1.000000</td>\n",
              "      <td>1.000000</td>\n",
              "      <td>1.000000</td>\n",
              "      <td>1.000000</td>\n",
              "    </tr>\n",
              "    <tr>\n",
              "      <th>25%</th>\n",
              "      <td>27.750000</td>\n",
              "      <td>1.000000</td>\n",
              "      <td>2.0000</td>\n",
              "      <td>2.000000</td>\n",
              "      <td>4.000000</td>\n",
              "      <td>3.000000</td>\n",
              "      <td>2.000000</td>\n",
              "      <td>3.000000</td>\n",
              "      <td>2.000000</td>\n",
              "      <td>3.000000</td>\n",
              "      <td>...</td>\n",
              "      <td>3.000000</td>\n",
              "      <td>2.000000</td>\n",
              "      <td>2.000000</td>\n",
              "      <td>2.000000</td>\n",
              "      <td>2.000000</td>\n",
              "      <td>2.000000</td>\n",
              "      <td>2.000000</td>\n",
              "      <td>2.000000</td>\n",
              "      <td>2.000000</td>\n",
              "      <td>2.000000</td>\n",
              "    </tr>\n",
              "    <tr>\n",
              "      <th>50%</th>\n",
              "      <td>36.000000</td>\n",
              "      <td>1.000000</td>\n",
              "      <td>3.0000</td>\n",
              "      <td>5.000000</td>\n",
              "      <td>6.000000</td>\n",
              "      <td>5.000000</td>\n",
              "      <td>5.000000</td>\n",
              "      <td>4.000000</td>\n",
              "      <td>4.000000</td>\n",
              "      <td>4.000000</td>\n",
              "      <td>...</td>\n",
              "      <td>4.000000</td>\n",
              "      <td>3.000000</td>\n",
              "      <td>3.000000</td>\n",
              "      <td>4.000000</td>\n",
              "      <td>4.000000</td>\n",
              "      <td>4.000000</td>\n",
              "      <td>4.000000</td>\n",
              "      <td>3.000000</td>\n",
              "      <td>4.000000</td>\n",
              "      <td>3.000000</td>\n",
              "    </tr>\n",
              "    <tr>\n",
              "      <th>75%</th>\n",
              "      <td>45.000000</td>\n",
              "      <td>2.000000</td>\n",
              "      <td>6.0000</td>\n",
              "      <td>7.000000</td>\n",
              "      <td>7.000000</td>\n",
              "      <td>7.000000</td>\n",
              "      <td>7.000000</td>\n",
              "      <td>6.000000</td>\n",
              "      <td>7.000000</td>\n",
              "      <td>7.000000</td>\n",
              "      <td>...</td>\n",
              "      <td>7.000000</td>\n",
              "      <td>5.000000</td>\n",
              "      <td>6.000000</td>\n",
              "      <td>6.000000</td>\n",
              "      <td>5.000000</td>\n",
              "      <td>5.000000</td>\n",
              "      <td>5.000000</td>\n",
              "      <td>5.000000</td>\n",
              "      <td>6.000000</td>\n",
              "      <td>4.000000</td>\n",
              "    </tr>\n",
              "    <tr>\n",
              "      <th>max</th>\n",
              "      <td>73.000000</td>\n",
              "      <td>2.000000</td>\n",
              "      <td>8.0000</td>\n",
              "      <td>8.000000</td>\n",
              "      <td>8.000000</td>\n",
              "      <td>8.000000</td>\n",
              "      <td>7.000000</td>\n",
              "      <td>7.000000</td>\n",
              "      <td>7.000000</td>\n",
              "      <td>7.000000</td>\n",
              "      <td>...</td>\n",
              "      <td>9.000000</td>\n",
              "      <td>9.000000</td>\n",
              "      <td>8.000000</td>\n",
              "      <td>9.000000</td>\n",
              "      <td>8.000000</td>\n",
              "      <td>8.000000</td>\n",
              "      <td>9.000000</td>\n",
              "      <td>7.000000</td>\n",
              "      <td>7.000000</td>\n",
              "      <td>7.000000</td>\n",
              "    </tr>\n",
              "  </tbody>\n",
              "</table>\n",
              "<p>8 rows × 23 columns</p>\n",
              "</div>\n",
              "      <button class=\"colab-df-convert\" onclick=\"convertToInteractive('df-44605d44-dc73-4b96-9dba-d7d0defa3e20')\"\n",
              "              title=\"Convert this dataframe to an interactive table.\"\n",
              "              style=\"display:none;\">\n",
              "        \n",
              "  <svg xmlns=\"http://www.w3.org/2000/svg\" height=\"24px\"viewBox=\"0 0 24 24\"\n",
              "       width=\"24px\">\n",
              "    <path d=\"M0 0h24v24H0V0z\" fill=\"none\"/>\n",
              "    <path d=\"M18.56 5.44l.94 2.06.94-2.06 2.06-.94-2.06-.94-.94-2.06-.94 2.06-2.06.94zm-11 1L8.5 8.5l.94-2.06 2.06-.94-2.06-.94L8.5 2.5l-.94 2.06-2.06.94zm10 10l.94 2.06.94-2.06 2.06-.94-2.06-.94-.94-2.06-.94 2.06-2.06.94z\"/><path d=\"M17.41 7.96l-1.37-1.37c-.4-.4-.92-.59-1.43-.59-.52 0-1.04.2-1.43.59L10.3 9.45l-7.72 7.72c-.78.78-.78 2.05 0 2.83L4 21.41c.39.39.9.59 1.41.59.51 0 1.02-.2 1.41-.59l7.78-7.78 2.81-2.81c.8-.78.8-2.07 0-2.86zM5.41 20L4 18.59l7.72-7.72 1.47 1.35L5.41 20z\"/>\n",
              "  </svg>\n",
              "      </button>\n",
              "      \n",
              "  <style>\n",
              "    .colab-df-container {\n",
              "      display:flex;\n",
              "      flex-wrap:wrap;\n",
              "      gap: 12px;\n",
              "    }\n",
              "\n",
              "    .colab-df-convert {\n",
              "      background-color: #E8F0FE;\n",
              "      border: none;\n",
              "      border-radius: 50%;\n",
              "      cursor: pointer;\n",
              "      display: none;\n",
              "      fill: #1967D2;\n",
              "      height: 32px;\n",
              "      padding: 0 0 0 0;\n",
              "      width: 32px;\n",
              "    }\n",
              "\n",
              "    .colab-df-convert:hover {\n",
              "      background-color: #E2EBFA;\n",
              "      box-shadow: 0px 1px 2px rgba(60, 64, 67, 0.3), 0px 1px 3px 1px rgba(60, 64, 67, 0.15);\n",
              "      fill: #174EA6;\n",
              "    }\n",
              "\n",
              "    [theme=dark] .colab-df-convert {\n",
              "      background-color: #3B4455;\n",
              "      fill: #D2E3FC;\n",
              "    }\n",
              "\n",
              "    [theme=dark] .colab-df-convert:hover {\n",
              "      background-color: #434B5C;\n",
              "      box-shadow: 0px 1px 3px 1px rgba(0, 0, 0, 0.15);\n",
              "      filter: drop-shadow(0px 1px 2px rgba(0, 0, 0, 0.3));\n",
              "      fill: #FFFFFF;\n",
              "    }\n",
              "  </style>\n",
              "\n",
              "      <script>\n",
              "        const buttonEl =\n",
              "          document.querySelector('#df-44605d44-dc73-4b96-9dba-d7d0defa3e20 button.colab-df-convert');\n",
              "        buttonEl.style.display =\n",
              "          google.colab.kernel.accessAllowed ? 'block' : 'none';\n",
              "\n",
              "        async function convertToInteractive(key) {\n",
              "          const element = document.querySelector('#df-44605d44-dc73-4b96-9dba-d7d0defa3e20');\n",
              "          const dataTable =\n",
              "            await google.colab.kernel.invokeFunction('convertToInteractive',\n",
              "                                                     [key], {});\n",
              "          if (!dataTable) return;\n",
              "\n",
              "          const docLinkHtml = 'Like what you see? Visit the ' +\n",
              "            '<a target=\"_blank\" href=https://colab.research.google.com/notebooks/data_table.ipynb>data table notebook</a>'\n",
              "            + ' to learn more about interactive tables.';\n",
              "          element.innerHTML = '';\n",
              "          dataTable['output_type'] = 'display_data';\n",
              "          await google.colab.output.renderOutput(dataTable, element);\n",
              "          const docLink = document.createElement('div');\n",
              "          docLink.innerHTML = docLinkHtml;\n",
              "          element.appendChild(docLink);\n",
              "        }\n",
              "      </script>\n",
              "    </div>\n",
              "  </div>\n",
              "  "
            ]
          },
          "metadata": {},
          "execution_count": 39
        }
      ]
    },
    {
      "cell_type": "code",
      "source": [
        "print(x)"
      ],
      "metadata": {
        "colab": {
          "base_uri": "https://localhost:8080/"
        },
        "id": "T2wx8B2tbqrh",
        "outputId": "9a42bc46-4215-47b5-cbe7-9345852161fa"
      },
      "execution_count": null,
      "outputs": [
        {
          "output_type": "stream",
          "name": "stdout",
          "text": [
            "[[33  1  2 ...  2  3  4]\n",
            " [17  1  3 ...  1  7  2]\n",
            " [35  1  4 ...  6  7  2]\n",
            " ...\n",
            " [25  2  4 ...  6  7  2]\n",
            " [18  2  6 ...  4  2  3]\n",
            " [47  1  6 ...  6  7  2]]\n"
          ]
        }
      ]
    },
    {
      "cell_type": "code",
      "source": [
        "print(y)"
      ],
      "metadata": {
        "colab": {
          "base_uri": "https://localhost:8080/"
        },
        "id": "irccPYVEbw2f",
        "outputId": "34a1bf03-9889-4824-8c36-cc94d5be9c49"
      },
      "execution_count": null,
      "outputs": [
        {
          "output_type": "stream",
          "name": "stdout",
          "text": [
            "['Low' 'Medium' 'High' 'High' 'High' 'High' 'Low' 'Low' 'Medium' 'Medium'\n",
            " 'High' 'High' 'Medium' 'High' 'Low' 'Medium' 'Medium' 'High' 'High'\n",
            " 'Medium' 'High' 'High' 'High' 'High' 'High' 'Medium' 'Medium' 'Medium'\n",
            " 'High' 'Medium' 'High' 'High' 'Medium' 'Low' 'Low' 'Medium' 'Low' 'Low'\n",
            " 'Low' 'Low' 'Low' 'Low' 'Low' 'Low' 'Low' 'Low' 'High' 'Low' 'Low' 'Low'\n",
            " 'Low' 'Low' 'Low' 'Low' 'Low' 'Low' 'Low' 'High' 'Low' 'Low' 'Low' 'Low'\n",
            " 'Low' 'Medium' 'Medium' 'Medium' 'Medium' 'Medium' 'High' 'Medium'\n",
            " 'Medium' 'Medium' 'Medium' 'Medium' 'Medium' 'Medium' 'Medium' 'Medium'\n",
            " 'Medium' 'High' 'Medium' 'Medium' 'Medium' 'Medium' 'Medium' 'Medium'\n",
            " 'Medium' 'High' 'High' 'High' 'Medium' 'High' 'High' 'High' 'High' 'High'\n",
            " 'High' 'High' 'High' 'High' 'High' 'Medium' 'High' 'High' 'High' 'High'\n",
            " 'High' 'High' 'High' 'High' 'High' 'High' 'Low' 'Medium' 'High' 'High'\n",
            " 'High' 'Low' 'Low' 'Medium' 'Medium' 'High' 'High' 'Medium' 'High' 'Low'\n",
            " 'Medium' 'Medium' 'High' 'High' 'Medium' 'High' 'High' 'High' 'High'\n",
            " 'Medium' 'Medium' 'Medium' 'Medium' 'High' 'Medium' 'High' 'High'\n",
            " 'Medium' 'Low' 'Low' 'High' 'Low' 'Low' 'Low' 'Low' 'Low' 'Low' 'Low'\n",
            " 'Low' 'Low' 'Low' 'High' 'Low' 'Low' 'Low' 'Low' 'Low' 'Low' 'Low' 'Low'\n",
            " 'Low' 'Low' 'Medium' 'Low' 'Low' 'Low' 'Low' 'Low' 'Medium' 'Medium'\n",
            " 'Medium' 'Medium' 'Medium' 'Low' 'Medium' 'Medium' 'Medium' 'Medium'\n",
            " 'Medium' 'Medium' 'Medium' 'Medium' 'Medium' 'Medium' 'Low' 'Medium'\n",
            " 'Medium' 'Medium' 'Medium' 'Medium' 'Medium' 'Medium' 'High' 'High'\n",
            " 'High' 'Low' 'High' 'High' 'High' 'High' 'High' 'High' 'High' 'High'\n",
            " 'High' 'High' 'Low' 'High' 'High' 'High' 'High' 'High' 'High' 'High'\n",
            " 'High' 'High' 'High' 'Medium' 'Low' 'High' 'High' 'High' 'Low' 'Low'\n",
            " 'Medium' 'Medium' 'High' 'High' 'Medium' 'Low' 'Low' 'Medium' 'Medium'\n",
            " 'High' 'High' 'Medium' 'High' 'High' 'High' 'High' 'Low' 'Medium'\n",
            " 'Medium' 'Medium' 'High' 'Medium' 'High' 'High' 'Medium' 'Low' 'Low'\n",
            " 'Low' 'Low' 'Low' 'Low' 'Low' 'Low' 'Low' 'Low' 'Low' 'Low' 'Low' 'Low'\n",
            " 'Low' 'Low' 'Low' 'Low' 'Low' 'Low' 'Low' 'Low' 'Low' 'Low' 'Low' 'Low'\n",
            " 'Low' 'Low' 'Low' 'Low' 'Medium' 'Medium' 'Medium' 'Medium' 'Medium'\n",
            " 'Low' 'Medium' 'Medium' 'Medium' 'Medium' 'Medium' 'Medium' 'Medium'\n",
            " 'Medium' 'Medium' 'Medium' 'Low' 'Medium' 'Medium' 'Medium' 'Medium'\n",
            " 'Medium' 'Medium' 'Medium' 'High' 'High' 'High' 'Low' 'High' 'High'\n",
            " 'High' 'High' 'High' 'High' 'High' 'High' 'High' 'High' 'Low' 'High'\n",
            " 'High' 'High' 'High' 'High' 'High' 'High' 'High' 'High' 'High' 'Medium'\n",
            " 'Low' 'High' 'High' 'High' 'Low' 'Low' 'Medium' 'Medium' 'High' 'High'\n",
            " 'Medium' 'Low' 'Low' 'Medium' 'Medium' 'High' 'High' 'Medium' 'High'\n",
            " 'High' 'High' 'High' 'Low' 'Medium' 'Medium' 'Medium' 'High' 'Medium'\n",
            " 'High' 'High' 'Medium' 'Low' 'Low' 'Low' 'Low' 'Low' 'Low' 'Low' 'Low'\n",
            " 'Low' 'Low' 'Low' 'Low' 'Low' 'Low' 'Low' 'Low' 'Low' 'Low' 'Low' 'Low'\n",
            " 'Low' 'Low' 'Low' 'Low' 'Low' 'Low' 'Low' 'Low' 'Low' 'Low' 'Medium'\n",
            " 'Medium' 'Medium' 'Medium' 'Medium' 'Low' 'Medium' 'Medium' 'Medium'\n",
            " 'Medium' 'Medium' 'Medium' 'Medium' 'Medium' 'Medium' 'Medium' 'Low'\n",
            " 'Medium' 'Medium' 'Medium' 'Medium' 'Medium' 'Medium' 'Medium' 'High'\n",
            " 'High' 'High' 'Low' 'High' 'High' 'High' 'High' 'High' 'High' 'High'\n",
            " 'High' 'High' 'High' 'Low' 'High' 'High' 'High' 'High' 'High' 'High'\n",
            " 'High' 'High' 'High' 'High' 'High' 'Low' 'High' 'High' 'High' 'Low' 'Low'\n",
            " 'Medium' 'Medium' 'High' 'High' 'Medium' 'Low' 'Low' 'Medium' 'Medium'\n",
            " 'High' 'High' 'Medium' 'High' 'High' 'High' 'High' 'Low' 'Medium'\n",
            " 'Medium' 'Medium' 'High' 'Medium' 'High' 'High' 'Medium' 'Low' 'Low'\n",
            " 'Medium' 'Low' 'Low' 'Low' 'Low' 'Low' 'Low' 'Low' 'Low' 'Low' 'Low'\n",
            " 'Medium' 'Low' 'Low' 'Low' 'Low' 'Low' 'Low' 'Low' 'Low' 'Low' 'Low'\n",
            " 'Medium' 'Low' 'Low' 'Low' 'Low' 'Low' 'Medium' 'Medium' 'Medium'\n",
            " 'Medium' 'Medium' 'Medium' 'Medium' 'Medium' 'Medium' 'Medium' 'Medium'\n",
            " 'Medium' 'Medium' 'Medium' 'Medium' 'Medium' 'Medium' 'Medium' 'Medium'\n",
            " 'Medium' 'Medium' 'Medium' 'Medium' 'Medium' 'High' 'High' 'High'\n",
            " 'Medium' 'High' 'High' 'High' 'High' 'High' 'High' 'High' 'High' 'High'\n",
            " 'High' 'Medium' 'High' 'High' 'High' 'High' 'High' 'High' 'High' 'High'\n",
            " 'High' 'High' 'High' 'Medium' 'High' 'High' 'High' 'Low' 'Low' 'Medium'\n",
            " 'Medium' 'High' 'High' 'Medium' 'Medium' 'Low' 'Medium' 'Medium' 'High'\n",
            " 'High' 'Medium' 'High' 'High' 'High' 'High' 'Medium' 'Medium' 'Medium'\n",
            " 'Medium' 'High' 'Medium' 'High' 'High' 'Medium' 'Low' 'Low' 'Medium'\n",
            " 'Low' 'Low' 'Low' 'Low' 'Low' 'Low' 'Low' 'Low' 'Low' 'Low' 'Medium'\n",
            " 'Low' 'Low' 'Low' 'Low' 'Low' 'Low' 'Low' 'Low' 'Low' 'Low' 'Medium'\n",
            " 'Low' 'Low' 'Low' 'Low' 'Low' 'Medium' 'Medium' 'Medium' 'Medium'\n",
            " 'Medium' 'Medium' 'Medium' 'Medium' 'Medium' 'Medium' 'Medium' 'Medium'\n",
            " 'Medium' 'Medium' 'Medium' 'Medium' 'Medium' 'Medium' 'Medium' 'Medium'\n",
            " 'Medium' 'Medium' 'Medium' 'Medium' 'High' 'High' 'High' 'Medium' 'High'\n",
            " 'High' 'High' 'High' 'High' 'High' 'High' 'High' 'High' 'High' 'Medium'\n",
            " 'High' 'High' 'High' 'High' 'High' 'High' 'High' 'High' 'High' 'High'\n",
            " 'Medium' 'Medium' 'High' 'High' 'High' 'Low' 'Low' 'Medium' 'Medium'\n",
            " 'High' 'High' 'Medium' 'Medium' 'Low' 'Medium' 'Medium' 'High' 'High'\n",
            " 'Medium' 'High' 'High' 'High' 'High' 'Medium' 'Medium' 'Medium' 'Medium'\n",
            " 'High' 'Medium' 'High' 'High' 'Medium' 'Low' 'Low' 'Medium' 'Low' 'Low'\n",
            " 'Low' 'Low' 'Low' 'Low' 'Low' 'Low' 'Low' 'Low' 'Medium' 'Low' 'Low'\n",
            " 'Low' 'Low' 'Low' 'Low' 'Low' 'Low' 'Low' 'Low' 'High' 'Low' 'Low' 'Low'\n",
            " 'Low' 'Low' 'Medium' 'Medium' 'Medium' 'Medium' 'Medium' 'High' 'Medium'\n",
            " 'Medium' 'Medium' 'Medium' 'Medium' 'Medium' 'Medium' 'Medium' 'Medium'\n",
            " 'Medium' 'High' 'Medium' 'Medium' 'Medium' 'Medium' 'Medium' 'Medium'\n",
            " 'Medium' 'High' 'High' 'High' 'High' 'High' 'High' 'High' 'High' 'High'\n",
            " 'High' 'High' 'High' 'High' 'High' 'High' 'High' 'High' 'High' 'High'\n",
            " 'High' 'High' 'High' 'High' 'High' 'High' 'Low' 'High' 'High' 'High'\n",
            " 'High' 'Low' 'Low' 'Medium' 'Medium' 'High' 'High' 'Medium' 'High' 'Low'\n",
            " 'Medium' 'Medium' 'High' 'High' 'Medium' 'High' 'High' 'High' 'High'\n",
            " 'High' 'Medium' 'Medium' 'Medium' 'High' 'Medium' 'High' 'High' 'Medium'\n",
            " 'Low' 'Low' 'High' 'Low' 'Low' 'Low' 'Low' 'Low' 'Low' 'Low' 'Low' 'Low'\n",
            " 'Low' 'High' 'Low' 'Low' 'Low' 'Low' 'Low' 'Low' 'Low' 'Low' 'Low' 'Low'\n",
            " 'High' 'Low' 'Low' 'Low' 'Low' 'Low' 'Medium' 'Medium' 'Medium' 'Medium'\n",
            " 'Medium' 'High' 'Medium' 'Medium' 'Medium' 'Medium' 'Medium' 'Medium'\n",
            " 'Medium' 'Medium' 'Medium' 'Medium' 'High' 'Medium' 'Medium' 'Medium'\n",
            " 'Medium' 'Medium' 'Medium' 'Medium' 'High' 'High' 'High' 'High' 'High'\n",
            " 'High' 'High' 'High' 'High' 'High' 'High' 'High' 'High' 'High' 'High'\n",
            " 'High' 'High' 'High' 'High' 'High' 'High' 'High' 'High' 'High' 'High'\n",
            " 'Medium' 'High' 'High' 'High' 'High' 'Low' 'Low' 'Medium' 'Medium' 'High'\n",
            " 'High' 'Medium' 'High' 'Low' 'Medium' 'Medium' 'High' 'High' 'Medium'\n",
            " 'High' 'High' 'High' 'High' 'High' 'Medium' 'Medium' 'Medium' 'High'\n",
            " 'Medium' 'High' 'High' 'Medium' 'Low' 'Low' 'High' 'Low' 'Low' 'Low'\n",
            " 'Low' 'Low' 'Low' 'Low' 'Low' 'Low' 'Low' 'High' 'Low' 'Low' 'Low' 'Low'\n",
            " 'Low' 'Low' 'Low' 'Low' 'Low' 'Low' 'High' 'Low' 'Low' 'Low' 'Low' 'Low'\n",
            " 'Medium' 'Medium' 'Medium' 'Medium' 'Medium' 'High' 'Medium' 'Medium'\n",
            " 'Medium' 'Medium' 'Medium' 'Medium' 'Medium' 'Medium' 'Medium' 'Medium'\n",
            " 'High' 'Medium' 'Medium' 'Medium' 'Medium' 'Medium' 'Medium' 'Medium'\n",
            " 'High' 'Low' 'Low' 'High' 'Low' 'High' 'High' 'High' 'Medium' 'Medium'\n",
            " 'High' 'High' 'High' 'High' 'High' 'High' 'High' 'High' 'High' 'High'\n",
            " 'High' 'High' 'High' 'High' 'High']\n"
          ]
        }
      ]
    },
    {
      "cell_type": "code",
      "source": [
        "dataset.isnull().sum()"
      ],
      "metadata": {
        "colab": {
          "base_uri": "https://localhost:8080/"
        },
        "id": "JNK_KaRRcPo0",
        "outputId": "745f60d7-feaa-4396-e97e-8597312d0293"
      },
      "execution_count": null,
      "outputs": [
        {
          "output_type": "execute_result",
          "data": {
            "text/plain": [
              "Age                         0\n",
              "Gender                      0\n",
              "Air Pollution               0\n",
              "Alcohol use                 0\n",
              "Dust Allergy                0\n",
              "OccuPational Hazards        0\n",
              "Genetic Risk                0\n",
              "chronic Lung Disease        0\n",
              "Balanced Diet               0\n",
              "Obesity                     0\n",
              "Smoking                     0\n",
              "Passive Smoker              0\n",
              "Chest Pain                  0\n",
              "Coughing of Blood           0\n",
              "Fatigue                     0\n",
              "Weight Loss                 0\n",
              "Shortness of Breath         0\n",
              "Wheezing                    0\n",
              "Swallowing Difficulty       0\n",
              "Clubbing of Finger Nails    0\n",
              "Frequent Cold               0\n",
              "Dry Cough                   0\n",
              "Snoring                     0\n",
              "Level                       0\n",
              "dtype: int64"
            ]
          },
          "metadata": {},
          "execution_count": 42
        }
      ]
    },
    {
      "cell_type": "code",
      "source": [
        "from sklearn.compose import ColumnTransformer\n",
        "from sklearn.preprocessing import OneHotEncoder\n",
        "ct = ColumnTransformer(transformers=[('encoder',OneHotEncoder(),[0])],remainder = 'passthrough' )\n",
        "x = np.array(ct.fit_transform(x))\n",
        "print(x)"
      ],
      "metadata": {
        "colab": {
          "base_uri": "https://localhost:8080/"
        },
        "id": "qoCPkEqzi6My",
        "outputId": "a10a2630-9157-4d8a-deda-25d54d9c4553"
      },
      "execution_count": null,
      "outputs": [
        {
          "output_type": "stream",
          "name": "stdout",
          "text": [
            "[[0. 0. 0. ... 2. 3. 4.]\n",
            " [0. 1. 0. ... 1. 7. 2.]\n",
            " [0. 0. 0. ... 6. 7. 2.]\n",
            " ...\n",
            " [0. 0. 0. ... 6. 7. 2.]\n",
            " [0. 0. 1. ... 4. 2. 3.]\n",
            " [0. 0. 0. ... 6. 7. 2.]]\n"
          ]
        }
      ]
    },
    {
      "cell_type": "code",
      "source": [
        "from sklearn.preprocessing import LabelEncoder\n",
        "le=LabelEncoder()\n",
        "y=le.fit_transform(y)\n",
        "print(y)"
      ],
      "metadata": {
        "colab": {
          "base_uri": "https://localhost:8080/"
        },
        "id": "B0LGUTymkPkR",
        "outputId": "efbe1ea3-24cb-4184-9a6b-fc3bbb7d22d8"
      },
      "execution_count": null,
      "outputs": [
        {
          "output_type": "stream",
          "name": "stdout",
          "text": [
            "[1 2 0 0 0 0 1 1 2 2 0 0 2 0 1 2 2 0 0 2 0 0 0 0 0 2 2 2 0 2 0 0 2 1 1 2 1\n",
            " 1 1 1 1 1 1 1 1 1 0 1 1 1 1 1 1 1 1 1 1 0 1 1 1 1 1 2 2 2 2 2 0 2 2 2 2 2\n",
            " 2 2 2 2 2 0 2 2 2 2 2 2 2 0 0 0 2 0 0 0 0 0 0 0 0 0 0 2 0 0 0 0 0 0 0 0 0\n",
            " 0 1 2 0 0 0 1 1 2 2 0 0 2 0 1 2 2 0 0 2 0 0 0 0 2 2 2 2 0 2 0 0 2 1 1 0 1\n",
            " 1 1 1 1 1 1 1 1 1 0 1 1 1 1 1 1 1 1 1 1 2 1 1 1 1 1 2 2 2 2 2 1 2 2 2 2 2\n",
            " 2 2 2 2 2 1 2 2 2 2 2 2 2 0 0 0 1 0 0 0 0 0 0 0 0 0 0 1 0 0 0 0 0 0 0 0 0\n",
            " 0 2 1 0 0 0 1 1 2 2 0 0 2 1 1 2 2 0 0 2 0 0 0 0 1 2 2 2 0 2 0 0 2 1 1 1 1\n",
            " 1 1 1 1 1 1 1 1 1 1 1 1 1 1 1 1 1 1 1 1 1 1 1 1 1 1 2 2 2 2 2 1 2 2 2 2 2\n",
            " 2 2 2 2 2 1 2 2 2 2 2 2 2 0 0 0 1 0 0 0 0 0 0 0 0 0 0 1 0 0 0 0 0 0 0 0 0\n",
            " 0 2 1 0 0 0 1 1 2 2 0 0 2 1 1 2 2 0 0 2 0 0 0 0 1 2 2 2 0 2 0 0 2 1 1 1 1\n",
            " 1 1 1 1 1 1 1 1 1 1 1 1 1 1 1 1 1 1 1 1 1 1 1 1 1 1 2 2 2 2 2 1 2 2 2 2 2\n",
            " 2 2 2 2 2 1 2 2 2 2 2 2 2 0 0 0 1 0 0 0 0 0 0 0 0 0 0 1 0 0 0 0 0 0 0 0 0\n",
            " 0 0 1 0 0 0 1 1 2 2 0 0 2 1 1 2 2 0 0 2 0 0 0 0 1 2 2 2 0 2 0 0 2 1 1 2 1\n",
            " 1 1 1 1 1 1 1 1 1 2 1 1 1 1 1 1 1 1 1 1 2 1 1 1 1 1 2 2 2 2 2 2 2 2 2 2 2\n",
            " 2 2 2 2 2 2 2 2 2 2 2 2 2 0 0 0 2 0 0 0 0 0 0 0 0 0 0 2 0 0 0 0 0 0 0 0 0\n",
            " 0 0 2 0 0 0 1 1 2 2 0 0 2 2 1 2 2 0 0 2 0 0 0 0 2 2 2 2 0 2 0 0 2 1 1 2 1\n",
            " 1 1 1 1 1 1 1 1 1 2 1 1 1 1 1 1 1 1 1 1 2 1 1 1 1 1 2 2 2 2 2 2 2 2 2 2 2\n",
            " 2 2 2 2 2 2 2 2 2 2 2 2 2 0 0 0 2 0 0 0 0 0 0 0 0 0 0 2 0 0 0 0 0 0 0 0 0\n",
            " 0 2 2 0 0 0 1 1 2 2 0 0 2 2 1 2 2 0 0 2 0 0 0 0 2 2 2 2 0 2 0 0 2 1 1 2 1\n",
            " 1 1 1 1 1 1 1 1 1 2 1 1 1 1 1 1 1 1 1 1 0 1 1 1 1 1 2 2 2 2 2 0 2 2 2 2 2\n",
            " 2 2 2 2 2 0 2 2 2 2 2 2 2 0 0 0 0 0 0 0 0 0 0 0 0 0 0 0 0 0 0 0 0 0 0 0 0\n",
            " 0 1 0 0 0 0 1 1 2 2 0 0 2 0 1 2 2 0 0 2 0 0 0 0 0 2 2 2 0 2 0 0 2 1 1 0 1\n",
            " 1 1 1 1 1 1 1 1 1 0 1 1 1 1 1 1 1 1 1 1 0 1 1 1 1 1 2 2 2 2 2 0 2 2 2 2 2\n",
            " 2 2 2 2 2 0 2 2 2 2 2 2 2 0 0 0 0 0 0 0 0 0 0 0 0 0 0 0 0 0 0 0 0 0 0 0 0\n",
            " 0 2 0 0 0 0 1 1 2 2 0 0 2 0 1 2 2 0 0 2 0 0 0 0 0 2 2 2 0 2 0 0 2 1 1 0 1\n",
            " 1 1 1 1 1 1 1 1 1 0 1 1 1 1 1 1 1 1 1 1 0 1 1 1 1 1 2 2 2 2 2 0 2 2 2 2 2\n",
            " 2 2 2 2 2 0 2 2 2 2 2 2 2 0 1 1 0 1 0 0 0 2 2 0 0 0 0 0 0 0 0 0 0 0 0 0 0\n",
            " 0]\n"
          ]
        }
      ]
    },
    {
      "cell_type": "code",
      "source": [
        "from sklearn.model_selection import train_test_split\n",
        "X_train, X_test, y_train, y_test = train_test_split(x,y, test_size = 0.2,random_state =1 )"
      ],
      "metadata": {
        "id": "tReLAX27kR_o"
      },
      "execution_count": null,
      "outputs": []
    },
    {
      "cell_type": "code",
      "source": [
        "print(X_train)"
      ],
      "metadata": {
        "colab": {
          "base_uri": "https://localhost:8080/"
        },
        "id": "JDOeobnjkVcZ",
        "outputId": "5102c59e-444c-42d3-8005-9cb7fb375114"
      },
      "execution_count": null,
      "outputs": [
        {
          "output_type": "stream",
          "name": "stdout",
          "text": [
            "[[0. 0. 0. ... 5. 1. 1.]\n",
            " [0. 0. 0. ... 7. 6. 2.]\n",
            " [0. 0. 0. ... 2. 3. 1.]\n",
            " ...\n",
            " [0. 0. 0. ... 1. 7. 6.]\n",
            " [0. 0. 0. ... 2. 3. 1.]\n",
            " [0. 0. 0. ... 1. 2. 1.]]\n"
          ]
        }
      ]
    },
    {
      "cell_type": "code",
      "source": [
        "print(X_test)"
      ],
      "metadata": {
        "colab": {
          "base_uri": "https://localhost:8080/"
        },
        "id": "oIAWuwA1kVWl",
        "outputId": "02b6f2b6-75d9-4774-b0f9-3952e112041a"
      },
      "execution_count": null,
      "outputs": [
        {
          "output_type": "stream",
          "name": "stdout",
          "text": [
            "[[0. 0. 0. ... 4. 2. 5.]\n",
            " [0. 0. 0. ... 2. 3. 4.]\n",
            " [0. 0. 0. ... 2. 4. 1.]\n",
            " ...\n",
            " [0. 0. 0. ... 7. 6. 2.]\n",
            " [0. 0. 0. ... 1. 2. 2.]\n",
            " [0. 0. 0. ... 7. 6. 2.]]\n"
          ]
        }
      ]
    },
    {
      "cell_type": "code",
      "source": [
        "print(y_train)"
      ],
      "metadata": {
        "colab": {
          "base_uri": "https://localhost:8080/"
        },
        "id": "Jjutega8kX_3",
        "outputId": "b53fbd63-a62e-49e1-e0b7-3e544700bac8"
      },
      "execution_count": null,
      "outputs": [
        {
          "output_type": "stream",
          "name": "stdout",
          "text": [
            "[1 0 0 1 2 2 2 1 1 2 2 2 1 0 0 2 0 2 0 1 0 0 1 2 1 0 0 2 0 2 0 0 1 0 1 1 1\n",
            " 1 2 2 1 2 0 0 1 1 0 0 2 2 2 1 1 0 0 2 0 0 0 1 0 1 2 2 0 1 2 0 0 0 2 0 1 2\n",
            " 2 0 0 1 0 1 2 0 2 0 2 1 0 0 0 0 2 2 2 2 0 2 2 1 1 2 2 1 2 2 2 0 1 0 0 0 1\n",
            " 0 1 1 2 2 2 0 1 2 1 1 2 1 1 1 1 2 2 2 1 2 0 2 2 2 0 1 1 1 1 2 0 2 0 2 0 0\n",
            " 0 2 0 0 0 1 2 0 1 0 2 0 1 2 1 0 0 1 0 2 0 0 0 1 0 1 1 1 2 1 1 0 1 1 0 1 1\n",
            " 1 1 2 1 0 0 1 0 0 1 1 0 0 0 1 1 1 0 2 2 1 1 0 0 0 1 1 1 2 1 0 1 2 0 2 0 2\n",
            " 1 0 0 0 2 0 1 1 0 2 0 1 2 1 0 2 0 1 0 1 2 1 2 2 0 1 0 0 0 2 2 2 0 1 1 2 1\n",
            " 2 2 1 1 1 2 1 1 1 0 1 0 0 0 0 1 0 1 1 2 2 2 1 2 0 0 0 1 1 2 0 0 0 0 1 1 1\n",
            " 2 2 2 0 2 1 2 1 2 0 2 0 2 0 2 0 1 0 0 2 0 2 0 1 1 0 2 1 2 0 0 0 0 0 2 0 1\n",
            " 0 2 2 2 1 2 1 0 1 2 2 1 1 1 0 2 0 2 2 2 2 2 0 0 2 0 1 0 2 1 1 0 1 1 0 0 0\n",
            " 1 0 0 0 0 2 0 1 2 0 2 2 0 0 0 0 0 2 2 0 2 0 0 2 0 0 2 2 1 2 0 0 2 2 0 0 0\n",
            " 0 2 0 1 0 1 1 0 2 2 0 0 0 2 2 2 2 2 2 1 0 2 1 2 2 2 2 1 0 0 2 1 1 2 2 2 2\n",
            " 0 2 2 0 2 1 2 0 1 1 2 0 2 1 0 1 2 0 0 2 1 0 0 1 0 2 2 2 2 0 1 0 0 0 1 2 0\n",
            " 1 2 0 2 2 1 2 1 2 2 1 2 1 2 2 0 0 2 2 0 1 2 0 0 0 1 1 1 0 1 2 0 0 2 1 2 0\n",
            " 1 0 0 2 0 1 2 1 0 0 0 1 0 1 1 1 2 0 0 2 1 0 0 1 1 2 0 0 2 1 1 2 1 2 2 1 0\n",
            " 2 0 0 0 2 1 1 0 0 0 1 2 1 0 2 1 0 2 2 1 2 0 1 0 2 2 2 0 0 0 2 0 0 0 0 2 0\n",
            " 0 0 0 0 1 2 0 0 1 0 2 1 2 0 1 1 1 2 2 2 2 0 2 0 2 2 1 2 1 1 2 0 1 1 1 0 2\n",
            " 0 1 0 2 2 0 1 1 2 1 2 0 2 1 0 1 2 2 2 0 2 1 1 2 0 0 1 0 0 2 2 1 1 0 0 1 0\n",
            " 1 0 2 2 2 1 0 1 1 2 1 2 2 0 0 0 0 0 1 0 2 1 1 2 1 0 2 0 2 0 2 0 0 1 2 2 0\n",
            " 1 1 1 1 0 1 1 2 1 0 0 1 0 1 2 2 2 1 2 2 2 2 0 2 0 2 0 1 2 1 1 1 2 2 2 1 2\n",
            " 0 1 2 0 2 2 0 2 0 1 1 0 0 2 2 0 2 1 0 1 1 0 2 0 1 1 0 0 2 1 2 1 2 2 0 2 1\n",
            " 2 1 2 1 2 1 1 2 2 0 2 0 1 2 2 2 1 0 0 2 0 1 1]\n"
          ]
        }
      ]
    },
    {
      "cell_type": "code",
      "source": [
        "print(y_test)"
      ],
      "metadata": {
        "colab": {
          "base_uri": "https://localhost:8080/"
        },
        "id": "LdCz-9vEkZoH",
        "outputId": "1617b0bb-8015-4f8b-cfb6-26fbda80e3e1"
      },
      "execution_count": null,
      "outputs": [
        {
          "output_type": "stream",
          "name": "stdout",
          "text": [
            "[2 1 2 1 0 1 1 1 0 1 1 0 2 2 2 0 0 1 1 1 1 0 1 1 0 2 0 0 1 1 0 1 2 1 2 1 2\n",
            " 1 0 1 0 2 2 2 0 0 0 1 2 0 1 1 2 2 1 0 0 0 1 2 2 2 1 0 1 0 0 1 2 0 1 1 2 2\n",
            " 1 2 2 1 0 2 1 2 0 0 2 0 2 2 0 2 0 2 2 0 2 0 0 1 1 1 1 0 0 1 0 1 1 0 1 1 2\n",
            " 2 1 1 0 2 1 0 2 0 2 0 0 2 0 0 0 2 2 2 0 2 0 0 0 2 0 2 2 0 2 1 1 0 0 2 2 0\n",
            " 0 0 0 2 2 2 1 0 1 0 2 1 1 0 1 0 0 2 0 1 0 2 0 2 1 0 0 1 2 2 1 0 0 1 1 1 0\n",
            " 0 0 2 2 2 1 1 0 2 2 0 0 0 1 0]\n"
          ]
        }
      ]
    },
    {
      "cell_type": "code",
      "source": [
        "from sklearn.preprocessing import StandardScaler\n",
        "sc = StandardScaler()\n",
        "X_train[:, 1:] = sc.fit_transform(X_train[:,1:])\n",
        "X_test[:,1:] = sc.transform(X_test[:1,1:])"
      ],
      "metadata": {
        "id": "n0PxPFSSlGzB"
      },
      "execution_count": null,
      "outputs": []
    },
    {
      "cell_type": "code",
      "source": [
        "print(X_train)"
      ],
      "metadata": {
        "colab": {
          "base_uri": "https://localhost:8080/"
        },
        "id": "C-N0-G6DnMSC",
        "outputId": "0fe842a8-9572-44c1-95c7-6202e5788cf7"
      },
      "execution_count": null,
      "outputs": [
        {
          "output_type": "stream",
          "name": "stdout",
          "text": [
            "[[ 0.         -0.14285714 -0.12340351 ...  0.78882614 -1.4272944\n",
            "  -1.29412598]\n",
            " [ 0.         -0.14285714 -0.12340351 ...  1.87874136  1.05387796\n",
            "  -0.60940324]\n",
            " [ 0.         -0.14285714 -0.12340351 ... -0.84604669 -0.43482546\n",
            "  -1.29412598]\n",
            " ...\n",
            " [ 0.         -0.14285714 -0.12340351 ... -1.3910043   1.55011243\n",
            "   2.12948773]\n",
            " [ 0.         -0.14285714 -0.12340351 ... -0.84604669 -0.43482546\n",
            "  -1.29412598]\n",
            " [ 0.         -0.14285714 -0.12340351 ... -1.3910043  -0.93105993\n",
            "  -1.29412598]]\n"
          ]
        }
      ]
    },
    {
      "cell_type": "code",
      "source": [
        "print(X_test)"
      ],
      "metadata": {
        "colab": {
          "base_uri": "https://localhost:8080/"
        },
        "id": "HwW8zYS7nObU",
        "outputId": "40bd637a-30b3-45b1-9f6f-eba5eb00249e"
      },
      "execution_count": null,
      "outputs": [
        {
          "output_type": "stream",
          "name": "stdout",
          "text": [
            "[[ 0.         -0.14285714 -0.12340351 ...  4.          2.\n",
            "   5.        ]\n",
            " [ 0.         -0.14285714 -0.12340351 ...  4.          2.\n",
            "   5.        ]\n",
            " [ 0.         -0.14285714 -0.12340351 ...  4.          2.\n",
            "   5.        ]\n",
            " ...\n",
            " [ 0.         -0.14285714 -0.12340351 ...  4.          2.\n",
            "   5.        ]\n",
            " [ 0.         -0.14285714 -0.12340351 ...  4.          2.\n",
            "   5.        ]\n",
            " [ 0.         -0.14285714 -0.12340351 ...  4.          2.\n",
            "   5.        ]]\n"
          ]
        }
      ]
    }
  ]
}